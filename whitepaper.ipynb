{
 "cells": [
  {
   "cell_type": "code",
   "execution_count": 1,
   "metadata": {},
   "outputs": [],
   "source": [
    "from cryptoadvance.specter.rpc import BitcoinRPC, RpcError\n",
    "import os\n",
    "from binascii import unhexlify"
   ]
  },
  {
   "cell_type": "code",
   "execution_count": 2,
   "metadata": {},
   "outputs": [],
   "source": [
    "rpc_user = os.getenv('BTC_RPC_USER')\n",
    "rpc_password = os.getenv('BTC_RPC_PASSWORD')\n",
    "rpc_host = os.getenv('BTC_RPC_HOST')\n",
    "rpc_port = os.getenv('BTC_RPC_PORT')"
   ]
  },
  {
   "cell_type": "code",
   "execution_count": 3,
   "metadata": {},
   "outputs": [],
   "source": [
    "cli = BitcoinRPC(rpc_user, rpc_password, rpc_host, rpc_port)"
   ]
  },
  {
   "cell_type": "markdown",
   "metadata": {},
   "source": [
    "## (1) getrawtransaction"
   ]
  },
  {
   "cell_type": "code",
   "execution_count": null,
   "metadata": {},
   "outputs": [],
   "source": [
    "raw_tx = cli.getrawtransaction(\"54e48e5f5c656b26c3bca14a8c95aa583d07ebe84dde3b7dd4a78f4e4186e713\", False, \"00000000000000ecbbff6bafb7efa2f7df05b227d5c73dca8f2635af32a2e949\")"
   ]
  },
  {
   "cell_type": "code",
   "execution_count": null,
   "metadata": {},
   "outputs": [],
   "source": [
    "# Splitting by the amount which is 1 sat for every output (except for the last output which was used as change)\n",
    "# Reminder: Amount is in little-endian\n",
    "# This already cuts off the very last output (change address), since this has an amount other than 1 sat\n",
    "outputs = raw_tx.split(\"0100000000000000\")\n",
    "len(outputs)\n",
    "# 948 = 1 input and 947 outputs, the last output won't be used, though"
   ]
  },
  {
   "cell_type": "code",
   "execution_count": null,
   "metadata": {},
   "outputs": [],
   "source": [
    "# based on https://bitcoin.stackexchange.com/questions/35959/how-is-the-whitepaper-decoded-from-the-blockchain-tx-with-1000x-m-of-n-multisi\n",
    "pdf = \"\"\n",
    "for output in outputs[1:-2]:\n",
    "    # There are 3 65-byte data parts in every output element, preceded with 41 (65 in decimal)\n",
    "    # At the beginning of each output there are two more bytes (c9 which means 201 bytes in pubkey script follow and 51 which is OP_1) to cut, thus 3 bytes in total\n",
    "    cur = 6\n",
    "    pdf += output[cur:cur+130]\n",
    "    cur += 132\n",
    "    pdf += output[cur:cur+130]\n",
    "    cur += 132\n",
    "    pdf += output[cur:cur+130]\n",
    "\n",
    "# Same cut with the second last output as above, 3 bytes at the beginning and 2 bytes and the end \n",
    "pdf += outputs[-2][6:-4]\n",
    "\n",
    "\n",
    "with open(\"bitcoin.pdf\", \"wb\") as f:\n",
    "    f.write(unhexlify(pdf[16:-16]))\n",
    "\n",
    "# sha256 hash of the pdf should be b1674191a88ec5cdd733e4240a81803105dc412d6c6708d53ab94fc248f4f553"
   ]
  },
  {
   "cell_type": "markdown",
   "metadata": {},
   "source": [
    "## (2) gettxout"
   ]
  },
  {
   "cell_type": "markdown",
   "metadata": {},
   "source": [
    "### a) Calling gettxout one by one for every output"
   ]
  },
  {
   "cell_type": "code",
   "execution_count": 6,
   "metadata": {},
   "outputs": [],
   "source": [
    "outputs_prun = []\n",
    "for i in range(0,946):\n",
    "    output = cli.gettxout(\"54e48e5f5c656b26c3bca14a8c95aa583d07ebe84dde3b7dd4a78f4e4186e713\", i)\n",
    "    outputs_prun.append(output)"
   ]
  },
  {
   "cell_type": "code",
   "execution_count": null,
   "metadata": {},
   "outputs": [],
   "source": [
    "pdf_prun = \"\"\n",
    "for output in outputs_prun[:-1]:\n",
    "    cur = 4\n",
    "    pdf_prun += output['scriptPubKey']['hex'][cur:cur+130]\n",
    "    cur += 132\n",
    "    pdf_prun += output['scriptPubKey']['hex'][cur:cur+130]\n",
    "    cur += 132\n",
    "    pdf_prun += output['scriptPubKey']['hex'][cur:cur+130]\n",
    "\n",
    "# Same cut with the last output as above\n",
    "pdf_prun += outputs_prun[-1]['scriptPubKey']['hex'][4:-4]\n",
    "\n",
    "with open(\"bitcoin_prun.pdf\", \"wb\") as f:\n",
    "    f.write(unhexlify(pdf_prun[16:-16]))\n",
    "\n",
    "# sha256 hash of the pdf should be b1674191a88ec5cdd733e4240a81803105dc412d6c6708d53ab94fc248f4f553"
   ]
  },
  {
   "cell_type": "markdown",
   "metadata": {},
   "source": [
    "### b) Making only one big RPC call for all outputs"
   ]
  },
  {
   "cell_type": "code",
   "execution_count": null,
   "metadata": {},
   "outputs": [],
   "source": [
    "outputs_prun_2 = cli.multi([(\"gettxout\",\"54e48e5f5c656b26c3bca14a8c95aa583d07ebe84dde3b7dd4a78f4e4186e713\", i) for i in range(0,946)])"
   ]
  },
  {
   "cell_type": "code",
   "execution_count": 14,
   "metadata": {},
   "outputs": [],
   "source": [
    "pdf_prun_2 = \"\"\n",
    "for output in outputs_prun_2[:-1]:\n",
    "    cur = 4\n",
    "    pdf_prun_2 += output['result']['scriptPubKey']['hex'][cur:cur+130]\n",
    "    cur += 132\n",
    "    pdf_prun_2 += output['result']['scriptPubKey']['hex'][cur:cur+130]\n",
    "    cur += 132\n",
    "    pdf_prun_2 += output['result']['scriptPubKey']['hex'][cur:cur+130]\n",
    "\n",
    "# Same cut with the last output as above\n",
    "pdf_prun_2 += outputs_prun_2[-1]['result']['scriptPubKey']['hex'][4:-4]\n",
    "\n",
    "with open(\"bitcoin_prun_2.pdf\", \"wb\") as f:\n",
    "    f.write(unhexlify(pdf_prun_2[16:-16]))\n",
    "\n",
    "# sha256 hash of the pdf should be b1674191a88ec5cdd733e4240a81803105dc412d6c6708d53ab94fc248f4f553"
   ]
  },
  {
   "cell_type": "markdown",
   "metadata": {},
   "source": [
    "## (3) Unused last output"
   ]
  },
  {
   "cell_type": "code",
   "execution_count": 4,
   "metadata": {},
   "outputs": [],
   "source": [
    "unused = cli.gettxout(\"54e48e5f5c656b26c3bca14a8c95aa583d07ebe84dde3b7dd4a78f4e4186e713\", 946)"
   ]
  },
  {
   "cell_type": "code",
   "execution_count": 5,
   "metadata": {},
   "outputs": [
    {
     "data": {
      "text/plain": [
       "{'bestblock': '00000000000000000001d68c1b02770534c6087c5afd0e138df163bbd285e1a4',\n",
       " 'confirmations': 438216,\n",
       " 'value': 1e-08,\n",
       " 'scriptPubKey': {'asm': 'OP_DUP OP_HASH160 62e907b15cbf27d5425399ebf6f0fb50ebb88f18 OP_EQUALVERIFY OP_CHECKSIG',\n",
       "  'hex': '76a91462e907b15cbf27d5425399ebf6f0fb50ebb88f1888ac',\n",
       "  'reqSigs': 1,\n",
       "  'type': 'pubkeyhash',\n",
       "  'addresses': ['1A1zP1eP5QGefi2DMPTfTL5SLmv7DivfNa']},\n",
       " 'coinbase': False}"
      ]
     },
     "execution_count": 5,
     "metadata": {},
     "output_type": "execute_result"
    }
   ],
   "source": [
    "unused"
   ]
  },
  {
   "cell_type": "code",
   "execution_count": null,
   "metadata": {},
   "outputs": [],
   "source": [
    "# No sensible message"
   ]
  },
  {
   "cell_type": "markdown",
   "metadata": {},
   "source": [
    "### File sigs"
   ]
  },
  {
   "cell_type": "code",
   "execution_count": 6,
   "metadata": {},
   "outputs": [],
   "source": [
    "# Hex signature at the beginning: 25 50 44 46 --> %PDF"
   ]
  },
  {
   "cell_type": "code",
   "execution_count": null,
   "metadata": {},
   "outputs": [],
   "source": [
    "# Trailer: 0A 25 25 45 4F 46 0A --> .%%EOF."
   ]
  },
  {
   "cell_type": "markdown",
   "metadata": {},
   "source": [
    "## (4) Comparison with Musk tweet"
   ]
  },
  {
   "cell_type": "code",
   "execution_count": 9,
   "metadata": {},
   "outputs": [],
   "source": [
    "musk_coinbase = cli.getrawtransaction(\"88349380e1f6be0eaefcad8f5abe3303769596caeed63d5de6150bf420e8b0f0\")\n",
    "# Different tx then below, this is from a coinbase tx (from the input script)\n",
    "# Basically the same approach as with the Genesis block"
   ]
  },
  {
   "cell_type": "code",
   "execution_count": 10,
   "metadata": {},
   "outputs": [
    {
     "data": {
      "text/plain": [
       "'0200000000010151bd3caba9b8cb6183ad6316474cfda67b98ff26f7d213fb909be217766fbc0500000000171600147e6c09c1dd3ec20b9eddc9a4163edb9d0adb7b52fdffffff02a861000000000000160014317f6d807d9e5d3ec1c4ae793a3ed588ad9c5bb50000000000000000226a20496e20726574726f73706563742c2069742077617320696e6576697461626c650247304402201a5fbec6e9d5c50399ddce2a4a18871ddd01da321d8cba08821d3817abdfc7fd022054b0e558e729a1fc3882898b9befb9f979c07f00bd57527acd7e2f441b4fdd7b0121034bc0c94ffba311a4a2864bc14a388b10a402ba825f9e41da80ad0b2deab6117300000000'"
      ]
     },
     "execution_count": 10,
     "metadata": {},
     "output_type": "execute_result"
    }
   ],
   "source": [
    "musk_coinbase"
   ]
  },
  {
   "cell_type": "code",
   "execution_count": 16,
   "metadata": {},
   "outputs": [],
   "source": [
    "musk_opreturn = cli.gettxout(\"c3a369ccb3667503280b41494b88215f1953268140ac430288be0fc692c9cc58\", 1)"
   ]
  },
  {
   "cell_type": "code",
   "execution_count": 18,
   "metadata": {
    "scrolled": true
   },
   "outputs": [
    {
     "data": {
      "text/plain": [
       "{'bestblock': '00000000000000000000edb439c8c28b5e77208ded8062df2990032b6915216d',\n",
       " 'confirmations': 0,\n",
       " 'value': 0.0,\n",
       " 'scriptPubKey': {'asm': 'OP_RETURN 496e20726574726f73706563742c2069742077617320696e6576697461626c65',\n",
       "  'hex': '6a20496e20726574726f73706563742c2069742077617320696e6576697461626c65',\n",
       "  'type': 'nulldata'},\n",
       " 'coinbase': False}"
      ]
     },
     "execution_count": 18,
     "metadata": {},
     "output_type": "execute_result"
    }
   ],
   "source": [
    "musk_opreturn"
   ]
  },
  {
   "cell_type": "code",
   "execution_count": 19,
   "metadata": {},
   "outputs": [],
   "source": [
    "# 496e20726574726f73706563742c2069742077617320696e6576697461626c65 in hex  \n",
    "# In retrospect, it was inevitable in ASCII"
   ]
  }
 ],
 "metadata": {
  "hide_input": false,
  "kernelspec": {
   "display_name": "whitepaper",
   "language": "python",
   "name": "whitepaper"
  },
  "language_info": {
   "codemirror_mode": {
    "name": "ipython",
    "version": 3
   },
   "file_extension": ".py",
   "mimetype": "text/x-python",
   "name": "python",
   "nbconvert_exporter": "python",
   "pygments_lexer": "ipython3",
   "version": "3.8.2"
  },
  "varInspector": {
   "cols": {
    "lenName": 16,
    "lenType": 16,
    "lenVar": 40
   },
   "kernels_config": {
    "python": {
     "delete_cmd_postfix": "",
     "delete_cmd_prefix": "del ",
     "library": "var_list.py",
     "varRefreshCmd": "print(var_dic_list())"
    },
    "r": {
     "delete_cmd_postfix": ") ",
     "delete_cmd_prefix": "rm(",
     "library": "var_list.r",
     "varRefreshCmd": "cat(var_dic_list()) "
    }
   },
   "types_to_exclude": [
    "module",
    "function",
    "builtin_function_or_method",
    "instance",
    "_Feature"
   ],
   "window_display": false
  }
 },
 "nbformat": 4,
 "nbformat_minor": 4
}
