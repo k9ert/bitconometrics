{
 "cells": [
  {
   "cell_type": "code",
   "execution_count": 134,
   "metadata": {},
   "outputs": [
    {
     "data": {
      "text/plain": [
       "{'chain': 'main',\n",
       " 'blocks': 623012,\n",
       " 'headers': 623012,\n",
       " 'bestblockhash': '000000000000000000073ab61877ffe4f4044d6344854268999b1c01954ec7fc',\n",
       " 'difficulty': 13912524048945.91,\n",
       " 'mediantime': 1585221456,\n",
       " 'verificationprogress': 0.9999962824704106,\n",
       " 'initialblockdownload': False,\n",
       " 'chainwork': '00000000000000000000000000000000000000000dec58e285b8018625b853dc',\n",
       " 'size_on_disk': 305527731289,\n",
       " 'pruned': False,\n",
       " 'softforks': [{'id': 'bip34', 'version': 2, 'reject': {'status': True}},\n",
       "  {'id': 'bip66', 'version': 3, 'reject': {'status': True}},\n",
       "  {'id': 'bip65', 'version': 4, 'reject': {'status': True}}],\n",
       " 'bip9_softforks': {'csv': {'status': 'active',\n",
       "   'startTime': 1462060800,\n",
       "   'timeout': 1493596800,\n",
       "   'since': 419328},\n",
       "  'segwit': {'status': 'active',\n",
       "   'startTime': 1479168000,\n",
       "   'timeout': 1510704000,\n",
       "   'since': 481824}},\n",
       " 'warnings': ''}"
      ]
     },
     "execution_count": 134,
     "metadata": {},
     "output_type": "execute_result"
    }
   ],
   "source": [
    "from cryptoadvance.specter.rpc import BitcoinCLI, RpcError\n",
    "import numpy as np\n",
    "#cli = BitcoinCLI(\"bitcoin\", \"secret\", \"localhost\", \"18443\")\n",
    "cli = BitcoinCLI(\"bitcoin\", \"dqptmms53t11i8vx93sp\", \"thundroid.local\", \"8332\")\n",
    "cli.getblockchaininfo()\n",
    "# To investigate the Bitcoin API, here are some great resources:\n",
    "# https://bitcoin.org/en/developer-reference#bitcoin-core-apis\n",
    "# https://chainquery.com/bitcoin-cli\n",
    "# https://github.com/ChristopherA/Learning-Bitcoin-from-the-Command-Line"
   ]
  },
  {
   "cell_type": "markdown",
   "metadata": {},
   "source": [
    "Let's look into the result of the getblock-call. It needs a hash as param and we're using the getblockhash-funtion to obtain the hash via the desired blockheight."
   ]
  },
  {
   "cell_type": "code",
   "execution_count": 135,
   "metadata": {},
   "outputs": [
    {
     "name": "stdout",
     "output_type": "stream",
     "text": [
      "dict_keys(['hash', 'confirmations', 'strippedsize', 'size', 'weight', 'height', 'version', 'versionHex', 'merkleroot', 'tx', 'time', 'mediantime', 'nonce', 'bits', 'difficulty', 'chainwork', 'nTx', 'previousblockhash', 'nextblockhash'])\n",
      "['00000000839a8e6886ab5951d76f411475428afc90947ee320161bbf18eb6048', 623012, 215, 215, 860, 1, 1, '00000001', '0e3e2357e806b6cdb1f70b54c3a3a17b6714ee1f0e68bebb44a74b1efd512098', ['0e3e2357e806b6cdb1f70b54c3a3a17b6714ee1f0e68bebb44a74b1efd512098'], 1231469665, 1231469665, 2573394689, '1d00ffff', 1, '0000000000000000000000000000000000000000000000000000000200020002', 1, '000000000019d6689c085ae165831e934ff763ae46a2a6c172b3f1b60a8ce26f', '000000006a625f06636b8bb6ac7b960a8d03705d1ace08b1a19da3fdcc99ddbd']\n"
     ]
    }
   ],
   "source": [
    "print(cli.getblock(cli.getblockhash(2)).keys())\n",
    "print(list(cli.getblock(cli.getblockhash(1)).values()))"
   ]
  },
  {
   "cell_type": "markdown",
   "metadata": {},
   "source": [
    "We will need a way to calculate the subsidy. Here is a function which does that:"
   ]
  },
  {
   "cell_type": "code",
   "execution_count": 201,
   "metadata": {},
   "outputs": [],
   "source": [
    "def blocksubsidy(height):\n",
    "    ' see https://gist.github.com/nelruk/d00d785f84e47288b0ab734d4aab5f49 '\n",
    "    period = int(height / 210000)\n",
    "    subsidy=50\n",
    "    for i in range(0,period):\n",
    "        subsidy = subsidy /2\n",
    "    return subsidy\n"
   ]
  },
  {
   "cell_type": "markdown",
   "metadata": {},
   "source": [
    "We will need to iterate through all the blocks. As the hash of the next block is part of the json, we don't have to use the geblockhash-call. This will make it faster. So here is a simplified version of how it looks like to navigate through the first 1000 blocks. We will also sum up the stock and measure the time this will take:"
   ]
  },
  {
   "cell_type": "code",
   "execution_count": 213,
   "metadata": {},
   "outputs": [
    {
     "name": "stdout",
     "output_type": "stream",
     "text": [
      "created the array in 3.6843 seconds\n",
      "In 1000 blocks, btc 50000 has been created\n"
     ]
    }
   ],
   "source": [
    "import time\n",
    "import csv\n",
    "from datetime import datetime\n",
    "#blocks = cli.getblockchaininfo()[\"blocks\"]\n",
    "# Lets' only iterate 1000 blocks\n",
    "blocks = 1000\n",
    "tic = time.perf_counter()\n",
    "hash = cli.getblockhash(1)\n",
    "stock = 0\n",
    "for i in range(0, 1000):\n",
    "    block = cli.getblock(hash)\n",
    "    stock = stock + blocksubsidy(i)\n",
    "    hash = block['nextblockhash']\n",
    "\n",
    "toc = time.perf_counter()\n",
    "print(f\"created the array in {toc - tic:0.4f} seconds\")\n",
    "print(f\"In {blocks} blocks, btc {stock} has been created\")"
   ]
  },
  {
   "cell_type": "markdown",
   "metadata": {},
   "source": [
    "So now we'll write out the stock for each day. For that, we'll check for each block, whether i has been created on a different day than the former block."
   ]
  },
  {
   "cell_type": "code",
   "execution_count": 211,
   "metadata": {},
   "outputs": [
    {
     "name": "stdout",
     "output_type": "stream",
     "text": [
      "created the array in 3.6463 seconds\n"
     ]
    },
    {
     "data": {
      "text/plain": [
       "(17761, 18)"
      ]
     },
     "execution_count": 211,
     "metadata": {},
     "output_type": "execute_result"
    }
   ],
   "source": [
    "import time\n",
    "import csv\n",
    "from datetime import datetime\n",
    "blocks = cli.getblockchaininfo()[\"blocks\"]\n",
    "# ommitting block 0 as it's non standard (18 elements instead of 19 as all the others)\n",
    "tic = time.perf_counter()\n",
    "hash = cli.getblockhash(1)\n",
    "stock = 0\n",
    "former_block_day = datetime.utcfromtimestamp(cli.getblock(hash)[\"time\"]).strftime('%Y-%m-%d')\n",
    "with open('days.csv', 'w', newline='') as csvfile:\n",
    "    writer = csv.writer(csvfile, delimiter=',',quotechar='|', quoting=csv.QUOTE_MINIMAL)\n",
    "    for i in range(0, 1000):\n",
    "        block = cli.getblock(hash)\n",
    "        timestamp = block['time']\n",
    "        block_day = datetime.utcfromtimestamp(timestamp).strftime('%Y-%m-%d')\n",
    "        if (block_day != former_block_day):\n",
    "            writer.writerow([block_day,i,stock])\n",
    "        stock = stock + blocksubsidy(i)\n",
    "        former_block_day = block_day\n",
    "        hash = block['nextblockhash']\n",
    "    \n",
    "toc = time.perf_counter()\n",
    "print(f\"created the array in {toc - tic:0.4f} seconds\")"
   ]
  }
 ],
 "metadata": {
  "kernelspec": {
   "display_name": "Python 3",
   "language": "python",
   "name": "python3"
  },
  "language_info": {
   "codemirror_mode": {
    "name": "ipython",
    "version": 3
   },
   "file_extension": ".py",
   "mimetype": "text/x-python",
   "name": "python",
   "nbconvert_exporter": "python",
   "pygments_lexer": "ipython3",
   "version": "3.6.6"
  }
 },
 "nbformat": 4,
 "nbformat_minor": 4
}
