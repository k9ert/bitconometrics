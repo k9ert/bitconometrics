{
 "cells": [
  {
   "cell_type": "markdown",
   "metadata": {},
   "source": [
    "# Download Blockdata\n",
    "This is an alternative to querying your own fullnode. If you don't have one, you can download the necessary blockdata directly from http://k9ert.de/s2f ."
   ]
  },
  {
   "cell_type": "code",
   "execution_count": 9,
   "metadata": {},
   "outputs": [],
   "source": [
    "from pathlib import Path\n",
    "# A function which downloads the file if it doesn't already exist on disk\n",
    "def dwnld_if_not_exists(filename):\n",
    "    if not os.path.isfile(Path('./data/{}'.format(filename))):\n",
    "        url = 'http://k9ert.de/s2f/{}'.format(filename)\n",
    "        print(\"Downloading {}\".format(url))\n",
    "        urllib.request.urlretrieve(url, './data/{}'.format(filename))\n",
    "    else:\n",
    "        print(\"Skipping ...\")"
   ]
  },
  {
   "cell_type": "code",
   "execution_count": 10,
   "metadata": {
    "scrolled": true
   },
   "outputs": [
    {
     "name": "stdout",
     "output_type": "stream",
     "text": [
      "Processing blocks_100000.csv ...\n",
      "Skipping ...\n",
      "Processing blocks_200000.csv ...\n",
      "Skipping ...\n",
      "Processing blocks_300000.csv ...\n",
      "Skipping ...\n",
      "Processing blocks_400000.csv ...\n",
      "Skipping ...\n",
      "Processing blocks_500000.csv ...\n",
      "Skipping ...\n",
      "Processing blocks_624189.csv ...\n",
      "Skipping ...\n"
     ]
    }
   ],
   "source": [
    "import urllib.request\n",
    "import os.path\n",
    "for i in range(1,6):\n",
    "    filename = 'blocks_{}00000.csv'.format(i)\n",
    "    print(\"Processing {} ...\".format(filename))\n",
    "    dwnld_if_not_exists(filename)\n",
    "print(\"Processing blocks_624189.csv ...\".format(filename))\n",
    "dwnld_if_not_exists(\"blocks_629123.csv\")\n"
   ]
  }
 ],
 "metadata": {
  "kernelspec": {
   "display_name": "Python 3",
   "language": "python",
   "name": "python3"
  },
  "language_info": {
   "codemirror_mode": {
    "name": "ipython",
    "version": 3
   },
   "file_extension": ".py",
   "mimetype": "text/x-python",
   "name": "python",
   "nbconvert_exporter": "python",
   "pygments_lexer": "ipython3",
   "version": "3.8.2"
  }
 },
 "nbformat": 4,
 "nbformat_minor": 4
}
